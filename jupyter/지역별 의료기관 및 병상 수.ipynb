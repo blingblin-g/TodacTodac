{
 "metadata": {
  "language_info": {
   "codemirror_mode": {
    "name": "ipython",
    "version": 3
   },
   "file_extension": ".py",
   "mimetype": "text/x-python",
   "name": "python",
   "nbconvert_exporter": "python",
   "pygments_lexer": "ipython3",
   "version": "3.9.1"
  },
  "orig_nbformat": 2,
  "kernelspec": {
   "name": "python3",
   "display_name": "Python 3.9.1 64-bit",
   "metadata": {
    "interpreter": {
     "hash": "b8eb1d3a50694a62538d4ede33937ccf2c148cae5770634469c945ca9c0170cc"
    }
   }
  }
 },
 "nbformat": 4,
 "nbformat_minor": 2,
 "cells": [
  {
   "cell_type": "code",
   "execution_count": 1,
   "metadata": {},
   "outputs": [],
   "source": [
    "import numpy as np\n",
    "import pandas as pd"
   ]
  },
  {
   "cell_type": "code",
   "execution_count": 5,
   "metadata": {},
   "outputs": [
    {
     "output_type": "execute_result",
     "data": {
      "text/plain": [
       "     행정구역별(1)  행정구역별(2)    2017   2017.1   2017.2     2017.3 2017.4 2017.5  \\\n",
       "1    행정구역별(1)  행정구역별(2)      소계  병원수 (개)  병상수 (개)  병상확보율 (%)    병원수    병상수   \n",
       "4       서울특별시       종로구  164257      500     3387       2.06      4   2978   \n",
       "5       서울특별시        중구  134593      543     1533       1.14      3   1035   \n",
       "6       서울특별시       용산구  244444      298      992       0.41      1    727   \n",
       "7       서울특별시       성동구  312711      432     2173       0.69      1    844   \n",
       "..        ...       ...     ...      ...      ...        ...    ...    ...   \n",
       "242      경상남도       함양군   40582       38      106       0.26      0      0   \n",
       "243      경상남도       거창군   63290       63      750       1.19      0      0   \n",
       "244      경상남도       합천군   47542       44      857       1.80      0      0   \n",
       "246   제주특별자치도       제주시  492401      625     4149       0.84      5   1964   \n",
       "247   제주특별자치도      서귀포시  186371      202      550       0.30      1    246   \n",
       "\n",
       "       2017.6 2017.7  ... 2017.19 2017.20 2017.21 2017.22 2017.23 2017.24  \\\n",
       "1    만명당종합병원수    병원수  ...     병원수     병상수     병원수     병상수     병원수     병상수   \n",
       "4        0.24      2  ...     135       0       0       0       7       0   \n",
       "5        0.22      3  ...      89       0       0       0      14       0   \n",
       "6        0.04      2  ...      60       0       1       5       3       0   \n",
       "7        0.03      7  ...      92       0       0       0       0       0   \n",
       "..        ...    ...  ...     ...     ...     ...     ...     ...     ...   \n",
       "242      0.00      1  ...       8       0       0       0       0       0   \n",
       "243      0.00      3  ...      14       0       0       0       0       0   \n",
       "244      0.00      3  ...      13       0       0       0       0       0   \n",
       "246      0.10      4  ...     132       0       1       4       0       0   \n",
       "247      0.05      3  ...      49       0       0       0       0       0   \n",
       "\n",
       "    2017.25 2017.26 2017.27 2017.28  \n",
       "1        소계      소계      소계      소계  \n",
       "4         0       1       0       1  \n",
       "5         0       1       3       1  \n",
       "6         0       1       0       1  \n",
       "7         0       1       0       2  \n",
       "..      ...     ...     ...     ...  \n",
       "242       0       1       0       0  \n",
       "243       0       1       0       0  \n",
       "244       0       1       0       0  \n",
       "246       0       3       6      23  \n",
       "247       0       3       4      24  \n",
       "\n",
       "[229 rows x 31 columns]"
      ],
      "text/html": "<div>\n<style scoped>\n    .dataframe tbody tr th:only-of-type {\n        vertical-align: middle;\n    }\n\n    .dataframe tbody tr th {\n        vertical-align: top;\n    }\n\n    .dataframe thead th {\n        text-align: right;\n    }\n</style>\n<table border=\"1\" class=\"dataframe\">\n  <thead>\n    <tr style=\"text-align: right;\">\n      <th></th>\n      <th>행정구역별(1)</th>\n      <th>행정구역별(2)</th>\n      <th>2017</th>\n      <th>2017.1</th>\n      <th>2017.2</th>\n      <th>2017.3</th>\n      <th>2017.4</th>\n      <th>2017.5</th>\n      <th>2017.6</th>\n      <th>2017.7</th>\n      <th>...</th>\n      <th>2017.19</th>\n      <th>2017.20</th>\n      <th>2017.21</th>\n      <th>2017.22</th>\n      <th>2017.23</th>\n      <th>2017.24</th>\n      <th>2017.25</th>\n      <th>2017.26</th>\n      <th>2017.27</th>\n      <th>2017.28</th>\n    </tr>\n  </thead>\n  <tbody>\n    <tr>\n      <th>1</th>\n      <td>행정구역별(1)</td>\n      <td>행정구역별(2)</td>\n      <td>소계</td>\n      <td>병원수 (개)</td>\n      <td>병상수 (개)</td>\n      <td>병상확보율 (%)</td>\n      <td>병원수</td>\n      <td>병상수</td>\n      <td>만명당종합병원수</td>\n      <td>병원수</td>\n      <td>...</td>\n      <td>병원수</td>\n      <td>병상수</td>\n      <td>병원수</td>\n      <td>병상수</td>\n      <td>병원수</td>\n      <td>병상수</td>\n      <td>소계</td>\n      <td>소계</td>\n      <td>소계</td>\n      <td>소계</td>\n    </tr>\n    <tr>\n      <th>4</th>\n      <td>서울특별시</td>\n      <td>종로구</td>\n      <td>164257</td>\n      <td>500</td>\n      <td>3387</td>\n      <td>2.06</td>\n      <td>4</td>\n      <td>2978</td>\n      <td>0.24</td>\n      <td>2</td>\n      <td>...</td>\n      <td>135</td>\n      <td>0</td>\n      <td>0</td>\n      <td>0</td>\n      <td>7</td>\n      <td>0</td>\n      <td>0</td>\n      <td>1</td>\n      <td>0</td>\n      <td>1</td>\n    </tr>\n    <tr>\n      <th>5</th>\n      <td>서울특별시</td>\n      <td>중구</td>\n      <td>134593</td>\n      <td>543</td>\n      <td>1533</td>\n      <td>1.14</td>\n      <td>3</td>\n      <td>1035</td>\n      <td>0.22</td>\n      <td>3</td>\n      <td>...</td>\n      <td>89</td>\n      <td>0</td>\n      <td>0</td>\n      <td>0</td>\n      <td>14</td>\n      <td>0</td>\n      <td>0</td>\n      <td>1</td>\n      <td>3</td>\n      <td>1</td>\n    </tr>\n    <tr>\n      <th>6</th>\n      <td>서울특별시</td>\n      <td>용산구</td>\n      <td>244444</td>\n      <td>298</td>\n      <td>992</td>\n      <td>0.41</td>\n      <td>1</td>\n      <td>727</td>\n      <td>0.04</td>\n      <td>2</td>\n      <td>...</td>\n      <td>60</td>\n      <td>0</td>\n      <td>1</td>\n      <td>5</td>\n      <td>3</td>\n      <td>0</td>\n      <td>0</td>\n      <td>1</td>\n      <td>0</td>\n      <td>1</td>\n    </tr>\n    <tr>\n      <th>7</th>\n      <td>서울특별시</td>\n      <td>성동구</td>\n      <td>312711</td>\n      <td>432</td>\n      <td>2173</td>\n      <td>0.69</td>\n      <td>1</td>\n      <td>844</td>\n      <td>0.03</td>\n      <td>7</td>\n      <td>...</td>\n      <td>92</td>\n      <td>0</td>\n      <td>0</td>\n      <td>0</td>\n      <td>0</td>\n      <td>0</td>\n      <td>0</td>\n      <td>1</td>\n      <td>0</td>\n      <td>2</td>\n    </tr>\n    <tr>\n      <th>...</th>\n      <td>...</td>\n      <td>...</td>\n      <td>...</td>\n      <td>...</td>\n      <td>...</td>\n      <td>...</td>\n      <td>...</td>\n      <td>...</td>\n      <td>...</td>\n      <td>...</td>\n      <td>...</td>\n      <td>...</td>\n      <td>...</td>\n      <td>...</td>\n      <td>...</td>\n      <td>...</td>\n      <td>...</td>\n      <td>...</td>\n      <td>...</td>\n      <td>...</td>\n      <td>...</td>\n    </tr>\n    <tr>\n      <th>242</th>\n      <td>경상남도</td>\n      <td>함양군</td>\n      <td>40582</td>\n      <td>38</td>\n      <td>106</td>\n      <td>0.26</td>\n      <td>0</td>\n      <td>0</td>\n      <td>0.00</td>\n      <td>1</td>\n      <td>...</td>\n      <td>8</td>\n      <td>0</td>\n      <td>0</td>\n      <td>0</td>\n      <td>0</td>\n      <td>0</td>\n      <td>0</td>\n      <td>1</td>\n      <td>0</td>\n      <td>0</td>\n    </tr>\n    <tr>\n      <th>243</th>\n      <td>경상남도</td>\n      <td>거창군</td>\n      <td>63290</td>\n      <td>63</td>\n      <td>750</td>\n      <td>1.19</td>\n      <td>0</td>\n      <td>0</td>\n      <td>0.00</td>\n      <td>3</td>\n      <td>...</td>\n      <td>14</td>\n      <td>0</td>\n      <td>0</td>\n      <td>0</td>\n      <td>0</td>\n      <td>0</td>\n      <td>0</td>\n      <td>1</td>\n      <td>0</td>\n      <td>0</td>\n    </tr>\n    <tr>\n      <th>244</th>\n      <td>경상남도</td>\n      <td>합천군</td>\n      <td>47542</td>\n      <td>44</td>\n      <td>857</td>\n      <td>1.80</td>\n      <td>0</td>\n      <td>0</td>\n      <td>0.00</td>\n      <td>3</td>\n      <td>...</td>\n      <td>13</td>\n      <td>0</td>\n      <td>0</td>\n      <td>0</td>\n      <td>0</td>\n      <td>0</td>\n      <td>0</td>\n      <td>1</td>\n      <td>0</td>\n      <td>0</td>\n    </tr>\n    <tr>\n      <th>246</th>\n      <td>제주특별자치도</td>\n      <td>제주시</td>\n      <td>492401</td>\n      <td>625</td>\n      <td>4149</td>\n      <td>0.84</td>\n      <td>5</td>\n      <td>1964</td>\n      <td>0.10</td>\n      <td>4</td>\n      <td>...</td>\n      <td>132</td>\n      <td>0</td>\n      <td>1</td>\n      <td>4</td>\n      <td>0</td>\n      <td>0</td>\n      <td>0</td>\n      <td>3</td>\n      <td>6</td>\n      <td>23</td>\n    </tr>\n    <tr>\n      <th>247</th>\n      <td>제주특별자치도</td>\n      <td>서귀포시</td>\n      <td>186371</td>\n      <td>202</td>\n      <td>550</td>\n      <td>0.30</td>\n      <td>1</td>\n      <td>246</td>\n      <td>0.05</td>\n      <td>3</td>\n      <td>...</td>\n      <td>49</td>\n      <td>0</td>\n      <td>0</td>\n      <td>0</td>\n      <td>0</td>\n      <td>0</td>\n      <td>0</td>\n      <td>3</td>\n      <td>4</td>\n      <td>24</td>\n    </tr>\n  </tbody>\n</table>\n<p>229 rows × 31 columns</p>\n</div>"
     },
     "metadata": {},
     "execution_count": 5
    }
   ],
   "source": [
    "data1 = pd.read_csv('../data/지역별 의료기관 및 병상수.csv', encoding='cp949')\n",
    "result1 = data1.iloc[1:].replace('-','0')\n",
    "result1=result1[result1['행정구역별(2)']!='소계']\n",
    "\n",
    "\n",
    "result1"
   ]
  }
 ]
}