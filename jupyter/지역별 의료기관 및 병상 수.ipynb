{
 "metadata": {
  "language_info": {
   "codemirror_mode": {
    "name": "ipython",
    "version": 3
   },
   "file_extension": ".py",
   "mimetype": "text/x-python",
   "name": "python",
   "nbconvert_exporter": "python",
   "pygments_lexer": "ipython3",
   "version": "3.9.1"
  },
  "orig_nbformat": 2,
  "kernelspec": {
   "name": "python3",
   "display_name": "Python 3.9.1 64-bit",
   "metadata": {
    "interpreter": {
     "hash": "b8eb1d3a50694a62538d4ede33937ccf2c148cae5770634469c945ca9c0170cc"
    }
   }
  }
 },
 "nbformat": 4,
 "nbformat_minor": 2,
 "cells": [
  {
   "cell_type": "code",
   "execution_count": 1,
   "metadata": {},
   "outputs": [],
   "source": [
    "import numpy as np\n",
    "import pandas as pd"
   ]
  },
  {
   "cell_type": "code",
   "execution_count": 40,
   "metadata": {},
   "outputs": [],
   "source": [
    "data1 = pd.read_csv('../data/지역별 의료기관 및 병상수.csv', encoding='cp949')\n",
    "result1 = data1.iloc[2:, [0,1,3,4,5]].replace('-','0').reset_index()\n",
    "\n",
    "result1['병원수']=result1['2017.1'].astype(float)/result1['2017.1'].astype(float).sum()\n",
    "result1['병상수']=result1['2017.2'].astype(float)/result1['2017.2'].astype(float).sum()\n",
    "result1['병상확보율']=result1['2017.3'].astype(float)/100\n",
    "result1=result1[result1['행정구역별(2)']!='소계']\n",
    "new_data=pd.DataFrame()\n",
    "new_data[0]=result1['행정구역별(1)']\n",
    "new_data[1]=result1['행정구역별(2)']\n",
    "new_data[2]=result1['병원수']\n",
    "new_data[3]=result1['병상수']\n",
    "new_data[4]=result1['병상확보율']\n",
    "\n",
    "\n",
    "new_data.to_csv('result/processed_지역별 의료기관 및 병상 수.csv', encoding='cp949')"
   ]
  }
 ]
}