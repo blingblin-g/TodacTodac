{
 "metadata": {
  "language_info": {
   "codemirror_mode": {
    "name": "ipython",
    "version": 3
   },
   "file_extension": ".py",
   "mimetype": "text/x-python",
   "name": "python",
   "nbconvert_exporter": "python",
   "pygments_lexer": "ipython3",
   "version": "3.9.1"
  },
  "orig_nbformat": 2,
  "kernelspec": {
   "name": "python3",
   "display_name": "Python 3.9.1 64-bit",
   "metadata": {
    "interpreter": {
     "hash": "b8eb1d3a50694a62538d4ede33937ccf2c148cae5770634469c945ca9c0170cc"
    }
   }
  }
 },
 "nbformat": 4,
 "nbformat_minor": 2,
 "cells": [
  {
   "cell_type": "code",
   "execution_count": 1,
   "metadata": {},
   "outputs": [],
   "source": [
    "import numpy as np\n",
    "import pandas as pd"
   ]
  },
  {
   "cell_type": "code",
   "execution_count": 38,
   "metadata": {},
   "outputs": [
    {
     "output_type": "execute_result",
     "data": {
      "text/plain": [
       "           0     1         2         3       4\n",
       "2      서울특별시   종로구  0.002517  0.001573  0.0206\n",
       "3      서울특별시    중구  0.002733  0.000712  0.0114\n",
       "4      서울특별시   용산구  0.001500  0.000461  0.0041\n",
       "5      서울특별시   성동구  0.002175  0.001009  0.0069\n",
       "6      서울특별시   광진구  0.002733  0.001058  0.0061\n",
       "..       ...   ...       ...       ...     ...\n",
       "240     경상남도   함양군  0.000191  0.000049  0.0026\n",
       "241     경상남도   거창군  0.000317  0.000348  0.0119\n",
       "242     경상남도   합천군  0.000221  0.000398  0.0180\n",
       "244  제주특별자치도   제주시  0.003146  0.001927  0.0084\n",
       "245  제주특별자치도  서귀포시  0.001017  0.000255  0.0030\n",
       "\n",
       "[228 rows x 5 columns]"
      ],
      "text/html": "<div>\n<style scoped>\n    .dataframe tbody tr th:only-of-type {\n        vertical-align: middle;\n    }\n\n    .dataframe tbody tr th {\n        vertical-align: top;\n    }\n\n    .dataframe thead th {\n        text-align: right;\n    }\n</style>\n<table border=\"1\" class=\"dataframe\">\n  <thead>\n    <tr style=\"text-align: right;\">\n      <th></th>\n      <th>0</th>\n      <th>1</th>\n      <th>2</th>\n      <th>3</th>\n      <th>4</th>\n    </tr>\n  </thead>\n  <tbody>\n    <tr>\n      <th>2</th>\n      <td>서울특별시</td>\n      <td>종로구</td>\n      <td>0.002517</td>\n      <td>0.001573</td>\n      <td>0.0206</td>\n    </tr>\n    <tr>\n      <th>3</th>\n      <td>서울특별시</td>\n      <td>중구</td>\n      <td>0.002733</td>\n      <td>0.000712</td>\n      <td>0.0114</td>\n    </tr>\n    <tr>\n      <th>4</th>\n      <td>서울특별시</td>\n      <td>용산구</td>\n      <td>0.001500</td>\n      <td>0.000461</td>\n      <td>0.0041</td>\n    </tr>\n    <tr>\n      <th>5</th>\n      <td>서울특별시</td>\n      <td>성동구</td>\n      <td>0.002175</td>\n      <td>0.001009</td>\n      <td>0.0069</td>\n    </tr>\n    <tr>\n      <th>6</th>\n      <td>서울특별시</td>\n      <td>광진구</td>\n      <td>0.002733</td>\n      <td>0.001058</td>\n      <td>0.0061</td>\n    </tr>\n    <tr>\n      <th>...</th>\n      <td>...</td>\n      <td>...</td>\n      <td>...</td>\n      <td>...</td>\n      <td>...</td>\n    </tr>\n    <tr>\n      <th>240</th>\n      <td>경상남도</td>\n      <td>함양군</td>\n      <td>0.000191</td>\n      <td>0.000049</td>\n      <td>0.0026</td>\n    </tr>\n    <tr>\n      <th>241</th>\n      <td>경상남도</td>\n      <td>거창군</td>\n      <td>0.000317</td>\n      <td>0.000348</td>\n      <td>0.0119</td>\n    </tr>\n    <tr>\n      <th>242</th>\n      <td>경상남도</td>\n      <td>합천군</td>\n      <td>0.000221</td>\n      <td>0.000398</td>\n      <td>0.0180</td>\n    </tr>\n    <tr>\n      <th>244</th>\n      <td>제주특별자치도</td>\n      <td>제주시</td>\n      <td>0.003146</td>\n      <td>0.001927</td>\n      <td>0.0084</td>\n    </tr>\n    <tr>\n      <th>245</th>\n      <td>제주특별자치도</td>\n      <td>서귀포시</td>\n      <td>0.001017</td>\n      <td>0.000255</td>\n      <td>0.0030</td>\n    </tr>\n  </tbody>\n</table>\n<p>228 rows × 5 columns</p>\n</div>"
     },
     "metadata": {},
     "execution_count": 38
    }
   ],
   "source": [
    "data1 = pd.read_csv('../data/지역별 의료기관 및 병상수.csv', encoding='cp949')\n",
    "result1 = data1.iloc[2:, [0,1,3,4,5]].replace('-','0').reset_index()\n",
    "\n",
    "result1['병원수']=result1['2017.1'].astype(float)/result1['2017.1'].astype(float).sum()\n",
    "result1['병상수']=result1['2017.2'].astype(float)/result1['2017.2'].astype(float).sum()\n",
    "result1['병상확보율']=result1['2017.3'].astype(float)/100\n",
    "result1=result1[result1['행정구역별(2)']!='소계']\n",
    "new_data=pd.DataFrame()\n",
    "new_data[0]=result1['행정구역별(1)']\n",
    "new_data[1]=result1['행정구역별(2)']\n",
    "new_data[2]=result1['병원수']\n",
    "new_data[3]=result1['병상수']\n",
    "new_data[4]=result1['병상확보율']\n",
    "\n",
    "\n",
    "new_data.to_csv('/result/processed_지역별 의료기관 및 병상 수.csv', encoding='cp949')"
   ]
  },
  {
   "cell_type": "code",
   "execution_count": null,
   "metadata": {},
   "outputs": [],
   "source": []
  }
 ]
}