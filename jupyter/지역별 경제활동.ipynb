{
 "cells": [
  {
   "cell_type": "code",
   "execution_count": 2,
   "id": "convinced-hearing",
   "metadata": {},
   "outputs": [],
   "source": [
    "import pandas as pd\n",
    "import numpy as np"
   ]
  },
  {
   "cell_type": "code",
   "execution_count": 3,
   "id": "finished-georgia",
   "metadata": {},
   "outputs": [],
   "source": [
    "file = \"../data/지역별 경제활동상태.csv\"\n",
    "df = pd.read_csv(file, encoding='cp949')\n",
    "df = df.fillna(0)"
   ]
  },
  {
   "cell_type": "code",
   "execution_count": 4,
   "id": "urban-destruction",
   "metadata": {},
   "outputs": [
    {
     "name": "stdout",
     "output_type": "stream",
     "text": [
      "       행정구역별(시군구)  성별     연령별 경제활동상태별          항목   단위      2015 년  Unnamed: 7\n",
      "0              전국  남자      합계    일하였음  20세이상 인구-계  0.0  13952579.0         0.0\n",
      "1              전국  남자      합계    일하였음      사회분야단체  0.0    653552.0         0.0\n",
      "2              전국  남자      합계    일하였음      경제분야단체  0.0    356787.0         0.0\n",
      "3              전국  남자      합계    일하였음      문화분야단체  0.0   1768435.0         0.0\n",
      "4              전국  남자      합계    일하였음      정치분야단체  0.0     64726.0         0.0\n",
      "...           ...  ..     ...     ...         ...  ...         ...         ...\n",
      "187039       서귀포시  여자  75세 이상  일하지않았음        지역단체  0.0        73.0         0.0\n",
      "187040       서귀포시  여자  75세 이상  일하지않았음        친목단체  0.0       189.0         0.0\n",
      "187041       서귀포시  여자  75세 이상  일하지않았음        교육단체  0.0         9.0         0.0\n",
      "187042       서귀포시  여자  75세 이상  일하지않았음          기타  0.0         0.0         0.0\n",
      "187043       서귀포시  여자  75세 이상  일하지않았음          없음  0.0      5720.0         0.0\n",
      "\n",
      "[187044 rows x 8 columns]\n"
     ]
    }
   ],
   "source": [
    "print(df)"
   ]
  },
  {
   "cell_type": "code",
   "execution_count": 13,
   "id": "transparent-doctrine",
   "metadata": {},
   "outputs": [],
   "source": [
    "area_list = []\n",
    "result = []\n",
    "count = 0\n",
    "temp = []\n",
    "temp2 = []\n",
    "for line in df.iloc():\n",
    "    if line[2] == \"합계\":\n",
    "        if temp == []:\n",
    "            temp.append(line[0])\n",
    "            temp.append(line[1])\n",
    "            temp.append(line[4])\n",
    "        elif line[0] == temp[0]:\n",
    "            temp.append(line[4])\n",
    "        elif df['행정구역별(시군구)'].iloc()[count-1] == temp[0]:\n",
    "            temp2.append(temp[0])\n",
    "            temp2.append(temp[3]/temp[1])\n",
    "            result.append(temp2)\n",
    "            temp = []\n",
    "            temp2 = []\n",
    "            temp.append(line[0])\n",
    "            temp.append(line[4])\n",
    "        \n",
    "    count += 1"
   ]
  },
  {
   "cell_type": "code",
   "execution_count": 15,
   "id": "stupid-activation",
   "metadata": {},
   "outputs": [
    {
     "name": "stdout",
     "output_type": "stream",
     "text": [
      "           0         1\n",
      "0      서울특별시  0.542831\n",
      "1        종로구  0.500508\n",
      "2         중구  0.504102\n",
      "3        용산구  0.528713\n",
      "4        성동구  0.538643\n",
      "..       ...       ...\n",
      "312  제주특별자치도  0.576621\n",
      "313       동부  0.571832\n",
      "314       읍부  0.588518\n",
      "315       면부  0.596604\n",
      "316      제주시  0.566643\n",
      "\n",
      "[317 rows x 2 columns]\n"
     ]
    }
   ],
   "source": [
    "n_df = pd.DataFrame(result)\n",
    "print(n_df)"
   ]
  },
  {
   "cell_type": "code",
   "execution_count": 16,
   "id": "numerical-mountain",
   "metadata": {},
   "outputs": [],
   "source": [
    "n_df.to_csv('processed_지역별 혼인율.csv', encoding='cp949')"
   ]
  },
  {
   "cell_type": "code",
   "execution_count": null,
   "id": "computational-interaction",
   "metadata": {},
   "outputs": [],
   "source": []
  }
 ],
 "metadata": {
  "kernelspec": {
   "display_name": "Python 3",
   "language": "python",
   "name": "python3"
  },
  "language_info": {
   "codemirror_mode": {
    "name": "ipython",
    "version": 3
   },
   "file_extension": ".py",
   "mimetype": "text/x-python",
   "name": "python",
   "nbconvert_exporter": "python",
   "pygments_lexer": "ipython3",
   "version": "3.9.2"
  }
 },
 "nbformat": 4,
 "nbformat_minor": 5
}
