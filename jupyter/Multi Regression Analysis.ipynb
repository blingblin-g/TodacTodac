{
 "cells": [
  {
   "cell_type": "code",
   "execution_count": 1,
   "id": "vocational-arrival",
   "metadata": {},
   "outputs": [],
   "source": [
    "import pandas as pd\n",
    "import numpy as np"
   ]
  },
  {
   "cell_type": "code",
   "execution_count": 7,
   "id": "equal-ethics",
   "metadata": {},
   "outputs": [],
   "source": [
    "file = \"result/merge_for_regression_medical_data.csv\""
   ]
  },
  {
   "cell_type": "code",
   "execution_count": 8,
   "id": "written-module",
   "metadata": {},
   "outputs": [
    {
     "name": "stdout",
     "output_type": "stream",
     "text": [
      "    location1 location2      암수검률      암이상률     일반수검률     일반이상률   건강보험미적용  \\\n",
      "0       서울특별시       강남구  0.471280  0.416932  0.681082  0.482844  0.183129   \n",
      "1       서울특별시       강동구  0.548984  0.438358  0.759804  0.529002  0.116175   \n",
      "2       서울특별시       강북구  0.564060  0.430716  0.733807  0.594797  0.094962   \n",
      "3       서울특별시       강서구  0.557505  0.354283  0.788282  0.533081  0.114108   \n",
      "4       서울특별시       관악구  0.562280  0.412946  0.756108  0.519614  0.083852   \n",
      "..        ...       ...       ...       ...       ...       ...       ...   \n",
      "245      경상남도       함안군  0.497163  0.337809  0.746723  0.555392  0.119644   \n",
      "246      경상남도       함양군  0.485902  0.377227  0.720010  0.634958  0.122077   \n",
      "247      경상남도       합천군  0.479106  0.245098  0.718018  0.632593  0.136006   \n",
      "248   제주특별자치도      서귀포시  0.484367  0.340596  0.694817  0.566437  0.137649   \n",
      "249   제주특별자치도       제주시  0.502960  0.352714  0.733123  0.530700  0.105482   \n",
      "\n",
      "     보건기관이용률    의료인력수  만명당의료인력수  의료서비스 만족도  월간음주율  우울감    삶의질    비만율  법정감염률  \\\n",
      "0      0.133  0.21038     0.375   0.697125   64.4  6.6  0.963  0.290   0.19   \n",
      "1      0.217  0.07434     0.169   0.697125   60.7  6.6  0.958  0.300   0.27   \n",
      "2      0.217  0.02644     0.081   0.697125   62.1  6.3  0.939  0.291   0.20   \n",
      "3      0.156  0.05066     0.083   0.697125   61.5  5.4  0.953  0.307   0.22   \n",
      "4      0.214  0.02823     0.054   0.697125   60.0  7.1  0.953  0.351   0.19   \n",
      "..       ...      ...       ...        ...    ...  ...    ...    ...    ...   \n",
      "245    0.379  0.00438     0.061   0.681250   51.6  2.7  0.946  0.362   0.55   \n",
      "246    0.442  0.00207     0.051   0.681250   56.4  2.7  0.958  0.349   0.74   \n",
      "247    0.593  0.00276     0.058   0.681250   49.5  2.4  0.980  0.302   0.99   \n",
      "248    0.354  0.01113     0.060   0.672000   62.3  4.2  0.953  0.399   0.36   \n",
      "249    0.245  0.05956     0.121   0.672000   57.6  4.7  0.958  0.381   0.30   \n",
      "\n",
      "      건강생활실천률  중증도이상 운동   흡연율  미충족의료율  \n",
      "0    0.648995      23.0  15.8     3.3  \n",
      "1    0.526508      26.7  19.3     5.9  \n",
      "2    0.586837      17.9  21.7     5.2  \n",
      "3    0.612431      23.5  18.1     6.4  \n",
      "4    0.661792      17.3  18.8     6.3  \n",
      "..        ...       ...   ...     ...  \n",
      "245  0.347349      41.5  21.9     4.3  \n",
      "246  0.040219      20.1  22.8     9.3  \n",
      "247  0.188300      15.7  19.9     3.5  \n",
      "248  0.102377      27.5  19.5     5.5  \n",
      "249  0.329068      23.7  21.1     4.4  \n",
      "\n",
      "[250 rows x 20 columns]\n"
     ]
    }
   ],
   "source": [
    "df = pd.read_csv(file)\n",
    "print(df)"
   ]
  },
  {
   "cell_type": "code",
   "execution_count": 44,
   "id": "indirect-mailman",
   "metadata": {},
   "outputs": [],
   "source": [
    "from sklearn.linear_model import LinearRegression\n",
    "from sklearn.metrics import r2_score"
   ]
  },
  {
   "cell_type": "code",
   "execution_count": 45,
   "id": "chronic-tribune",
   "metadata": {},
   "outputs": [],
   "source": [
    "import csv"
   ]
  },
  {
   "cell_type": "code",
   "execution_count": 46,
   "id": "written-chambers",
   "metadata": {},
   "outputs": [],
   "source": [
    "csvreader = csv.reader(open(file))"
   ]
  },
  {
   "cell_type": "code",
   "execution_count": 20,
   "id": "decent-organization",
   "metadata": {},
   "outputs": [
    {
     "name": "stdout",
     "output_type": "stream",
     "text": [
      "[2, 3, 4, 5, 6, 7, 8, 9, 10, 11, 12, 13, 14, 15, 16, 17, 18, 19]\n"
     ]
    }
   ],
   "source": [
    "x_i = [i for i in range(2,19)]\n",
    "print(x_i)"
   ]
  },
  {
   "cell_type": "code",
   "execution_count": 47,
   "id": "spare-motivation",
   "metadata": {},
   "outputs": [
    {
     "name": "stdout",
     "output_type": "stream",
     "text": [
      "-6.9543193556076455\n",
      "-2.056931012979498\n",
      "7.190540358075204\n",
      "-0.9599999968305594\n",
      "3.7769574502469907\n",
      "-14.959151438545682\n",
      "0.07459740285658856\n",
      "0.08147576375827947\n",
      "-77.49322551997435\n",
      "11.591232561897542\n",
      "0.8974170819340932\n",
      "-2.8986791462606716\n",
      "0.09885841475339519\n",
      "83.30749511143664\n"
     ]
    },
    {
     "name": "stderr",
     "output_type": "stream",
     "text": [
      "/usr/local/lib/python3.9/site-packages/sklearn/utils/validation.py:63: FutureWarning: Arrays of bytes/strings is being converted to decimal numbers if dtype='numeric'. This behavior is deprecated in 0.24 and will be removed in 1.1 (renaming of 0.26). Please convert your data to numeric values explicitly instead.\n",
      "  return f(*args, **kwargs)\n"
     ]
    }
   ],
   "source": [
    "x = []\n",
    "y = []\n",
    "\n",
    "for line in csvreader:\n",
    "#     x_i = [line[i] for i in range(2,6)]\n",
    "    x_i = [line[3],line[5],line[6],line[7],line[8],line[10],line[11],line[12],line[13],line[14],line[15],line[16],line[17]]\n",
    "    y_i = float(line[19])\n",
    "    x.append(x_i)\n",
    "    y.append(y_i)\n",
    "    \n",
    "X = np.array(x)\n",
    "Y = np.array(y)\n",
    "\n",
    "lrmodel = LinearRegression()\n",
    "lrmodel.fit(X, Y)\n",
    "\n",
    "beta_0 = lrmodel.coef_[0]\n",
    "beta_1 = lrmodel.coef_[1]\n",
    "beta_2 = lrmodel.coef_[2]\n",
    "beta_3 = lrmodel.coef_[3]\n",
    "beta_4 = lrmodel.coef_[4]\n",
    "beta_5 = lrmodel.coef_[5]\n",
    "beta_6 = lrmodel.coef_[6]\n",
    "beta_7 = lrmodel.coef_[7]\n",
    "beta_8 = lrmodel.coef_[8]\n",
    "beta_9 = lrmodel.coef_[9]\n",
    "beta_10 = lrmodel.coef_[10]\n",
    "beta_11 = lrmodel.coef_[11]\n",
    "beta_12 = lrmodel.coef_[12]\n",
    "# beta_13 = lrmodel.coef_[13]\n",
    "# beta_14 = lrmodel.coef_[14]\n",
    "# beta_15 = lrmodel.coef_[15]\n",
    "# beta_16 = lrmodel.coef_[16]\n",
    "beta_17 = lrmodel.intercept_\n",
    "\n",
    "print(beta_0)\n",
    "print(beta_1)\n",
    "print(beta_2)\n",
    "print(beta_3)\n",
    "print(beta_4)\n",
    "print(beta_5)\n",
    "print(beta_6)\n",
    "print(beta_7)\n",
    "print(beta_8)\n",
    "print(beta_9)\n",
    "print(beta_10)\n",
    "print(beta_11)\n",
    "print(beta_12)\n",
    "# print(beta_13)\n",
    "# print(beta_14)\n",
    "# print(beta_15)\n",
    "# print(beta_16)\n",
    "print(beta_17)\n",
    "\n"
   ]
  },
  {
   "cell_type": "code",
   "execution_count": null,
   "id": "compact-techno",
   "metadata": {},
   "outputs": [],
   "source": []
  }
 ],
 "metadata": {
  "kernelspec": {
   "display_name": "Python 3",
   "language": "python",
   "name": "python3"
  },
  "language_info": {
   "codemirror_mode": {
    "name": "ipython",
    "version": 3
   },
   "file_extension": ".py",
   "mimetype": "text/x-python",
   "name": "python",
   "nbconvert_exporter": "python",
   "pygments_lexer": "ipython3",
   "version": "3.9.2"
  }
 },
 "nbformat": 4,
 "nbformat_minor": 5
}
