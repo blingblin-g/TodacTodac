{
 "cells": [
  {
   "cell_type": "code",
   "execution_count": 17,
   "id": "vocational-arrival",
   "metadata": {},
   "outputs": [],
   "source": [
    "import pandas as pd\n",
    "import numpy as np\n",
    "from sklearn.linear_model import LinearRegression\n",
    "from sklearn.metrics import r2_score\n",
    "from sklearn.metrics import mean_squared_error\n",
    "import matplotlib.pyplot as plt\n",
    "import csv\n",
    "import unicodedata\n",
    "\n",
    "plt.rcParams['axes.unicode_minus'] = False\n",
    "plt.rcParams['font.family'] = 'AppleGothic'"
   ]
  },
  {
   "cell_type": "code",
   "execution_count": null,
   "id": "indirect-mailman",
   "metadata": {},
   "outputs": [],
   "source": [
    "file2 = \"result/merge_for_regression_all_data.csv\"\n",
    "\n",
    "df = pd.read_csv(file2, header=None)\n",
    "# print(df)\n",
    "\n",
    "csvreader = csv.reader(open(file2))\n",
    "\n",
    "x = []\n",
    "y = []\n",
    "line_len = 0\n",
    "\n",
    "for line in csvreader:\n",
    "    line_len = len(line)\n",
    "    x_i = [line[i] for i in range(2,line_len)]\n",
    "    y_i = float(line[line_len-1])\n",
    "    x.append(x_i)\n",
    "    y.append(y_i)\n",
    "    \n",
    "X = np.array(x)\n",
    "Y = np.array(y)\n",
    "\n",
    "lrmodel = LinearRegression()\n",
    "lrmodel.fit(X, Y)\n",
    "\n",
    "for i in range(0, line_len-2):\n",
    "    globals()['beta_{}'.format(i)] = lrmodel.coef_[i]\n",
    "    if i == line_len-2:\n",
    "        globals()['beta_{}'.format(i)] = lrmoder.intercept_\n",
    "\n",
    "for line in df.loc():\n",
    "    temp = 0\n",
    "    for i in range(0,line_len-2):\n",
    "#         print(line[i+2])\n",
    "        temp = (float(line[i+2]) * float(globals()['beta_{}'.format(i)])) + temp\n",
    "    temp = temp + float(globals()['beta_{}'.format(line_len-3)])\n",
    "    print(line[len(line)-1]-temp)\n",
    "        \n",
    "for i in range(0, line_len-2):\n",
    "    print(globals()['beta_{}'.format(i)])   "
   ]
  },
  {
   "cell_type": "code",
   "execution_count": 40,
   "id": "chronic-tribune",
   "metadata": {
    "scrolled": true
   },
   "outputs": [
    {
     "name": "stderr",
     "output_type": "stream",
     "text": [
      "/usr/local/lib/python3.9/site-packages/sklearn/utils/validation.py:63: FutureWarning: Arrays of bytes/strings is being converted to decimal numbers if dtype='numeric'. This behavior is deprecated in 0.24 and will be removed in 1.1 (renaming of 0.26). Please convert your data to numeric values explicitly instead.\n",
      "  return f(*args, **kwargs)\n",
      "/usr/local/lib/python3.9/site-packages/sklearn/utils/validation.py:63: FutureWarning: Arrays of bytes/strings is being converted to decimal numbers if dtype='numeric'. This behavior is deprecated in 0.24 and will be removed in 1.1 (renaming of 0.26). Please convert your data to numeric values explicitly instead.\n",
      "  return f(*args, **kwargs)\n",
      "/usr/local/lib/python3.9/site-packages/sklearn/utils/validation.py:63: FutureWarning: Arrays of bytes/strings is being converted to decimal numbers if dtype='numeric'. This behavior is deprecated in 0.24 and will be removed in 1.1 (renaming of 0.26). Please convert your data to numeric values explicitly instead.\n",
      "  return f(*args, **kwargs)\n",
      "/usr/local/lib/python3.9/site-packages/sklearn/utils/validation.py:63: FutureWarning: Arrays of bytes/strings is being converted to decimal numbers if dtype='numeric'. This behavior is deprecated in 0.24 and will be removed in 1.1 (renaming of 0.26). Please convert your data to numeric values explicitly instead.\n",
      "  return f(*args, **kwargs)\n",
      "No handles with labels found to put in legend.\n"
     ]
    },
    {
     "name": "stdout",
     "output_type": "stream",
     "text": [
      "=============================================\n",
      "beta 0 :  2.9277046801270714e-14\n",
      "beta 1 :  -1.0436096431476471e-14\n",
      "Y :  1.000000000000001\n",
      "None\n",
      "=============================================\n",
      "residuals\n",
      "---------------------------------------------\n",
      "                  0\n",
      "count  2.500000e+02\n",
      "mean   6.972201e-17\n",
      "std    3.773725e-15\n",
      "min   -1.421085e-14\n",
      "25%   -1.776357e-15\n",
      "50%    8.881784e-16\n",
      "75%    2.664535e-15\n",
      "max    7.660539e-15\n",
      "=============================================\n",
      "R_squared :  1.0\n",
      "Score :  1.0\n",
      "Mean-Squared-Error :  1.4188895975564306e-29\n",
      "RMSE :  3.766815097076615e-15\n",
      "=============================================\n"
     ]
    },
    {
     "name": "stderr",
     "output_type": "stream",
     "text": [
      "No handles with labels found to put in legend.\n",
      "No handles with labels found to put in legend.\n"
     ]
    },
    {
     "data": {
      "text/plain": [
       "<Figure size 864x288 with 0 Axes>"
      ]
     },
     "metadata": {},
     "output_type": "display_data"
    },
    {
     "data": {
      "text/plain": [
       "<Figure size 288x288 with 0 Axes>"
      ]
     },
     "metadata": {},
     "output_type": "display_data"
    },
    {
     "data": {
      "text/plain": [
       "<Figure size 288x288 with 0 Axes>"
      ]
     },
     "metadata": {},
     "output_type": "display_data"
    },
    {
     "data": {
      "text/plain": [
       "<Figure size 288x288 with 0 Axes>"
      ]
     },
     "metadata": {},
     "output_type": "display_data"
    }
   ],
   "source": [
    "file3 = \"data_for_linear/가설1(2차) 다중회귀분석.csv\"\n",
    "\n",
    "df = pd.read_csv(file3, header=None)\n",
    "# print(df)\n",
    "\n",
    "csvreader = csv.reader(open(file3))\n",
    "\n",
    "x = []\n",
    "y = []\n",
    "line_len = 0\n",
    "\n",
    "for line in csvreader:\n",
    "    line_len = len(line)\n",
    "    x_i = [line[i] for i in range(2,line_len)]\n",
    "    y_i = float(line[line_len-1])\n",
    "    x.append(x_i)\n",
    "    y.append(y_i)\n",
    "    \n",
    "X = np.array(x)\n",
    "Y = np.array(y)\n",
    "\n",
    "lrmodel = LinearRegression()\n",
    "lrmodel.fit(X, Y)\n",
    "\n",
    "for i in range(0, line_len-2):\n",
    "    globals()['beta_{}'.format(i)] = lrmodel.coef_[i]\n",
    "    if i == line_len-2:\n",
    "        globals()['beta_{}'.format(i)] = lrmoder.intercept_\n",
    "\n",
    "# for line in df.iloc():\n",
    "#     temp = 0\n",
    "#     for i in range(0,line_len-2):\n",
    "# #         print(line[i+2])\n",
    "#         temp = (float(line[i+2]) * float(globals()['beta_{}'.format(i)])) + temp\n",
    "#     temp = temp + float(globals()['beta_{}'.format(line_len-3)])\n",
    "# #     print(line[len(line)-1]-temp)\n",
    "dashline_num = 45\n",
    "print(\"=\"*dashline_num)        \n",
    "print_count = 0\n",
    "for i in range(0, line_len-2):\n",
    "    if print_count == line_len-3:\n",
    "        print(print('Y : ', globals()['beta_{}'.format(i)]))\n",
    "    else:\n",
    "        print('beta {} : '.format(i), globals()['beta_{}'.format(i)])\n",
    "    print_count += 1\n",
    "print(\"=\"*dashline_num)\n",
    "prediction = lrmodel.predict(X)\n",
    "\n",
    "print(\"residuals\")\n",
    "print(\"-\"*dashline_num)\n",
    "residuals = Y - prediction\n",
    "re_df = pd.DataFrame(residuals)\n",
    "print(re_df.describe())\n",
    "print(\"=\"*dashline_num)\n",
    "SSE = (residuals**2).sum()\n",
    "SST = ((Y-Y.mean())**2).sum()\n",
    "R_squared = 1 - (SSE/SST)\n",
    "print(\"R_squared : \", R_squared)\n",
    "\n",
    "print(\"Score : \", lrmodel.score(X,Y))\n",
    "print(\"Mean-Squared-Error : \", mean_squared_error(prediction, Y))\n",
    "print(\"RMSE : \", mean_squared_error(prediction, Y)**0.5)\n",
    "print(\"=\"*dashline_num)\n",
    "\n",
    "save_name = file3.split('/')[1].split('.')[0].split(\" \")[0]\n",
    "save_name = unicodedata.normalize('NFC', save_name)\n",
    "\n",
    "fig = plt.figure(figsize = (12,4))\n",
    "graph = fig.add_subplot(1,1,1)\n",
    "graph.plot(df[line_len-1], marker='o', color='blue', label='real_value')\n",
    "graph.plot(lrmodel.predict(X), marker='^', color='red', label='prediction')\n",
    "graph.set_title(\"{} 미충족의료율 다중회귀분석 예측결과\".format(save_name))\n",
    "plt.ylabel('미충족의료율')\n",
    "plt.legend(loc ='best')\n",
    "plt.savefig(\"{} 미충족의료율 다중회귀분석 예측결과.png\".format(save_name))\n",
    "plt.clf()\n",
    "\n",
    "for i in range(2, line_len):\n",
    "    fig = plt.figure(figsize = (4,4))\n",
    "    plt.scatter(df[i], df[line_len-1], alpha=0.4)\n",
    "    plt.title(\"{} 미충족의료율 산점도\".format(save_name))\n",
    "    plt.ylabel('미충족의료율')\n",
    "    plt.legend(loc ='best')\n",
    "    plt.savefig(\"{}_{}.png\".format(save_name,i))\n",
    "    plt.clf()"
   ]
  },
  {
   "cell_type": "code",
   "execution_count": null,
   "id": "correct-clothing",
   "metadata": {},
   "outputs": [],
   "source": []
  },
  {
   "cell_type": "code",
   "execution_count": null,
   "id": "compliant-healing",
   "metadata": {},
   "outputs": [],
   "source": []
  },
  {
   "cell_type": "code",
   "execution_count": null,
   "id": "written-chambers",
   "metadata": {},
   "outputs": [],
   "source": []
  },
  {
   "cell_type": "code",
   "execution_count": null,
   "id": "compact-techno",
   "metadata": {},
   "outputs": [],
   "source": [
    "plt.scatter(df[3], df[5], alpha=0.4)\n",
    "plt.title(\"1인당 평균 종부세 - 미충족의료율 산점도\")\n",
    "plt.xlabel('1인당 평균 종부세')\n",
    "plt.ylabel('미충족의료율')\n",
    "plt.legend(loc ='best')"
   ]
  },
  {
   "cell_type": "code",
   "execution_count": null,
   "id": "revised-sitting",
   "metadata": {},
   "outputs": [],
   "source": [
    "plt.scatter(df[4], df[5], alpha=0.4)\n",
    "plt.title(\"가구당 평균 종부세 - 미충족의료율 산점도\")\n",
    "plt.xlabel('가구당 평균 종부세')\n",
    "plt.ylabel('미충족의료율')\n",
    "plt.legend(loc ='best')"
   ]
  },
  {
   "cell_type": "code",
   "execution_count": null,
   "id": "photographic-macedonia",
   "metadata": {},
   "outputs": [],
   "source": []
  }
 ],
 "metadata": {
  "kernelspec": {
   "display_name": "Python 3",
   "language": "python",
   "name": "python3"
  },
  "language_info": {
   "codemirror_mode": {
    "name": "ipython",
    "version": 3
   },
   "file_extension": ".py",
   "mimetype": "text/x-python",
   "name": "python",
   "nbconvert_exporter": "python",
   "pygments_lexer": "ipython3",
   "version": "3.9.2"
  }
 },
 "nbformat": 4,
 "nbformat_minor": 5
}
