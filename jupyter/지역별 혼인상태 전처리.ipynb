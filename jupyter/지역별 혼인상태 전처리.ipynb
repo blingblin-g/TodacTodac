{
 "cells": [
  {
   "cell_type": "code",
   "execution_count": 1,
   "id": "convinced-hearing",
   "metadata": {},
   "outputs": [],
   "source": [
    "import pandas as pd\n",
    "import numpy as np"
   ]
  },
  {
   "cell_type": "code",
   "execution_count": 6,
   "id": "finished-georgia",
   "metadata": {},
   "outputs": [],
   "source": [
    "file = \"../data/지역별 혼인상태.csv\"\n",
    "df = pd.read_csv(file, encoding='cp949')\n",
    "df = df.fillna(0)"
   ]
  },
  {
   "cell_type": "code",
   "execution_count": 7,
   "id": "urban-destruction",
   "metadata": {},
   "outputs": [
    {
     "name": "stdout",
     "output_type": "stream",
     "text": [
      "       행정구역별     연령별            항목   단위   2010 년  Unnamed: 5\n",
      "0      서울특별시      합계  내국인(15세이상)-계  0.0  8276179         0.0\n",
      "1      서울특별시      합계        내국인-미혼  0.0  2952687         0.0\n",
      "2      서울특별시      합계     내국인-배우자있음  0.0  4492568         0.0\n",
      "3      서울특별시      합계        내국인-사별  0.0   495075         0.0\n",
      "4      서울특별시      합계        내국인-이혼  0.0   335849         0.0\n",
      "...      ...     ...           ...  ...      ...         ...\n",
      "76315   서귀포시  85세 이상   여자(15세이상)-계  0.0     1678         0.0\n",
      "76316   서귀포시  85세 이상         여자-미혼  0.0       17         0.0\n",
      "76317   서귀포시  85세 이상      여자-배우자있음  0.0       98         0.0\n",
      "76318   서귀포시  85세 이상         여자-사별  0.0     1554         0.0\n",
      "76319   서귀포시  85세 이상         여자-이혼  0.0        9         0.0\n",
      "\n",
      "[76320 rows x 6 columns]\n"
     ]
    }
   ],
   "source": [
    "print(df)"
   ]
  },
  {
   "cell_type": "code",
   "execution_count": 13,
   "id": "transparent-doctrine",
   "metadata": {},
   "outputs": [],
   "source": [
    "area_list = []\n",
    "result = []\n",
    "count = 0\n",
    "temp = []\n",
    "temp2 = []\n",
    "for line in df.iloc():\n",
    "    if line[1] == \"합계\":\n",
    "        if temp == []:\n",
    "            temp.append(line[0])\n",
    "            temp.append(line[4])\n",
    "        elif line[0] == temp[0]:\n",
    "            temp.append(line[4])\n",
    "        elif df['행정구역별'].iloc()[count-1] == temp[0]:\n",
    "            temp2.append(temp[0])\n",
    "            temp2.append(temp[3]/temp[1])\n",
    "            result.append(temp2)\n",
    "            temp = []\n",
    "            temp2 = []\n",
    "            temp.append(line[0])\n",
    "            temp.append(line[4])\n",
    "        \n",
    "    count += 1"
   ]
  },
  {
   "cell_type": "code",
   "execution_count": 15,
   "id": "stupid-activation",
   "metadata": {},
   "outputs": [
    {
     "name": "stdout",
     "output_type": "stream",
     "text": [
      "           0         1\n",
      "0      서울특별시  0.542831\n",
      "1        종로구  0.500508\n",
      "2         중구  0.504102\n",
      "3        용산구  0.528713\n",
      "4        성동구  0.538643\n",
      "..       ...       ...\n",
      "312  제주특별자치도  0.576621\n",
      "313       동부  0.571832\n",
      "314       읍부  0.588518\n",
      "315       면부  0.596604\n",
      "316      제주시  0.566643\n",
      "\n",
      "[317 rows x 2 columns]\n"
     ]
    }
   ],
   "source": [
    "n_df = pd.DataFrame(result)\n",
    "print(n_df)"
   ]
  },
  {
   "cell_type": "code",
   "execution_count": 16,
   "id": "numerical-mountain",
   "metadata": {},
   "outputs": [],
   "source": [
    "n_df.to_csv('processed_지역별 혼인율.csv', encoding='cp949')"
   ]
  },
  {
   "cell_type": "code",
   "execution_count": null,
   "id": "computational-interaction",
   "metadata": {},
   "outputs": [],
   "source": []
  }
 ],
 "metadata": {
  "kernelspec": {
   "display_name": "Python 3",
   "language": "python",
   "name": "python3"
  },
  "language_info": {
   "codemirror_mode": {
    "name": "ipython",
    "version": 3
   },
   "file_extension": ".py",
   "mimetype": "text/x-python",
   "name": "python",
   "nbconvert_exporter": "python",
   "pygments_lexer": "ipython3",
   "version": "3.9.2"
  }
 },
 "nbformat": 4,
 "nbformat_minor": 5
}
